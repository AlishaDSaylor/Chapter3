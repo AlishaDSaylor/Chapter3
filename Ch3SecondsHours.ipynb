{
 "cells": [
  {
   "cell_type": "code",
   "execution_count": 10,
   "id": "65c8118a-e68f-4ced-912c-af0a2b270746",
   "metadata": {},
   "outputs": [
    {
     "data": {
      "text/plain": [
       "3600"
      ]
     },
     "execution_count": 10,
     "metadata": {},
     "output_type": "execute_result"
    }
   ],
   "source": [
    "seconds_in_hour = 60 * 60\n",
    "seconds_in_hour"
   ]
  },
  {
   "cell_type": "code",
   "execution_count": 12,
   "id": "d62e1af9-f1f9-46ca-97bd-beaa578dbe1d",
   "metadata": {},
   "outputs": [
    {
     "data": {
      "text/plain": [
       "3600"
      ]
     },
     "execution_count": 12,
     "metadata": {},
     "output_type": "execute_result"
    }
   ],
   "source": [
    "seconds_per_hour = seconds_in_hour\n",
    "seconds_per_hour"
   ]
  },
  {
   "cell_type": "code",
   "execution_count": 14,
   "id": "a563d4a1-1f1c-4c49-b6e5-bb047fb0d19c",
   "metadata": {},
   "outputs": [
    {
     "data": {
      "text/plain": [
       "86400"
      ]
     },
     "execution_count": 14,
     "metadata": {},
     "output_type": "execute_result"
    }
   ],
   "source": [
    "seconds_in_day = seconds_per_hour * 24\n",
    "seconds_in_day"
   ]
  },
  {
   "cell_type": "code",
   "execution_count": 16,
   "id": "68cea8e6-aef5-4558-96ae-f0b151d6ad95",
   "metadata": {},
   "outputs": [
    {
     "data": {
      "text/plain": [
       "86400"
      ]
     },
     "execution_count": 16,
     "metadata": {},
     "output_type": "execute_result"
    }
   ],
   "source": [
    "seconds_per_day = seconds_in_day\n",
    "seconds_per_day"
   ]
  },
  {
   "cell_type": "code",
   "execution_count": 20,
   "id": "7cfbd154-5674-4051-b7cf-3f0d56df7075",
   "metadata": {},
   "outputs": [
    {
     "data": {
      "text/plain": [
       "24.0"
      ]
     },
     "execution_count": 20,
     "metadata": {},
     "output_type": "execute_result"
    }
   ],
   "source": [
    "floating_point_division = seconds_per_day / seconds_per_hour\n",
    "floating_point_division"
   ]
  },
  {
   "cell_type": "code",
   "execution_count": 22,
   "id": "24e5426c-4171-4f84-a3e5-eb5c140e126c",
   "metadata": {},
   "outputs": [
    {
     "data": {
      "text/plain": [
       "24"
      ]
     },
     "execution_count": 22,
     "metadata": {},
     "output_type": "execute_result"
    }
   ],
   "source": [
    "integer_division = seconds_per_day // seconds_per_hour\n",
    "integer_division"
   ]
  },
  {
   "cell_type": "code",
   "execution_count": null,
   "id": "21ea219f-671e-4388-9357-6994167d6083",
   "metadata": {},
   "outputs": [],
   "source": []
  }
 ],
 "metadata": {
  "kernelspec": {
   "display_name": "Python 3 (ipykernel)",
   "language": "python",
   "name": "python3"
  },
  "language_info": {
   "codemirror_mode": {
    "name": "ipython",
    "version": 3
   },
   "file_extension": ".py",
   "mimetype": "text/x-python",
   "name": "python",
   "nbconvert_exporter": "python",
   "pygments_lexer": "ipython3",
   "version": "3.12.4"
  }
 },
 "nbformat": 4,
 "nbformat_minor": 5
}
